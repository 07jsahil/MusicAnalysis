{
 "cells": [
  {
   "cell_type": "code",
   "execution_count": 29,
   "metadata": {
    "collapsed": true,
    "deletable": true,
    "editable": true
   },
   "outputs": [],
   "source": [
    "import pandas as pd\n",
    "%matplotlib inline"
   ]
  },
  {
   "cell_type": "code",
   "execution_count": 2,
   "metadata": {
    "collapsed": false,
    "deletable": true,
    "editable": true
   },
   "outputs": [
    {
     "data": {
      "text/html": [
       "<div>\n",
       "<table border=\"1\" class=\"dataframe\">\n",
       "  <thead>\n",
       "    <tr style=\"text-align: right;\">\n",
       "      <th></th>\n",
       "      <th>track id</th>\n",
       "      <th>genre</th>\n",
       "      <th>amazement</th>\n",
       "      <th>solemnity</th>\n",
       "      <th>tenderness</th>\n",
       "      <th>nostalgia</th>\n",
       "      <th>calmness</th>\n",
       "      <th>power</th>\n",
       "      <th>joyful_activation</th>\n",
       "      <th>tension</th>\n",
       "      <th>sadness</th>\n",
       "      <th>mood</th>\n",
       "      <th>liked</th>\n",
       "      <th>disliked</th>\n",
       "      <th>age</th>\n",
       "      <th>gender</th>\n",
       "      <th>mother tongue</th>\n",
       "    </tr>\n",
       "  </thead>\n",
       "  <tbody>\n",
       "    <tr>\n",
       "      <th>0</th>\n",
       "      <td>1</td>\n",
       "      <td>classical</td>\n",
       "      <td>0</td>\n",
       "      <td>1</td>\n",
       "      <td>0</td>\n",
       "      <td>0</td>\n",
       "      <td>0</td>\n",
       "      <td>0</td>\n",
       "      <td>1</td>\n",
       "      <td>1</td>\n",
       "      <td>0</td>\n",
       "      <td>3</td>\n",
       "      <td>1</td>\n",
       "      <td>0</td>\n",
       "      <td>21</td>\n",
       "      <td>1</td>\n",
       "      <td>English</td>\n",
       "    </tr>\n",
       "    <tr>\n",
       "      <th>1</th>\n",
       "      <td>1</td>\n",
       "      <td>classical</td>\n",
       "      <td>0</td>\n",
       "      <td>0</td>\n",
       "      <td>0</td>\n",
       "      <td>1</td>\n",
       "      <td>0</td>\n",
       "      <td>0</td>\n",
       "      <td>0</td>\n",
       "      <td>0</td>\n",
       "      <td>0</td>\n",
       "      <td>3</td>\n",
       "      <td>0</td>\n",
       "      <td>1</td>\n",
       "      <td>41</td>\n",
       "      <td>1</td>\n",
       "      <td>Dutch</td>\n",
       "    </tr>\n",
       "    <tr>\n",
       "      <th>2</th>\n",
       "      <td>1</td>\n",
       "      <td>classical</td>\n",
       "      <td>0</td>\n",
       "      <td>0</td>\n",
       "      <td>0</td>\n",
       "      <td>1</td>\n",
       "      <td>0</td>\n",
       "      <td>0</td>\n",
       "      <td>0</td>\n",
       "      <td>0</td>\n",
       "      <td>1</td>\n",
       "      <td>3</td>\n",
       "      <td>0</td>\n",
       "      <td>0</td>\n",
       "      <td>24</td>\n",
       "      <td>1</td>\n",
       "      <td>English</td>\n",
       "    </tr>\n",
       "    <tr>\n",
       "      <th>3</th>\n",
       "      <td>1</td>\n",
       "      <td>classical</td>\n",
       "      <td>0</td>\n",
       "      <td>0</td>\n",
       "      <td>0</td>\n",
       "      <td>0</td>\n",
       "      <td>1</td>\n",
       "      <td>0</td>\n",
       "      <td>0</td>\n",
       "      <td>0</td>\n",
       "      <td>0</td>\n",
       "      <td>3</td>\n",
       "      <td>0</td>\n",
       "      <td>0</td>\n",
       "      <td>32</td>\n",
       "      <td>0</td>\n",
       "      <td>Spanish</td>\n",
       "    </tr>\n",
       "    <tr>\n",
       "      <th>4</th>\n",
       "      <td>1</td>\n",
       "      <td>classical</td>\n",
       "      <td>0</td>\n",
       "      <td>0</td>\n",
       "      <td>0</td>\n",
       "      <td>1</td>\n",
       "      <td>1</td>\n",
       "      <td>0</td>\n",
       "      <td>0</td>\n",
       "      <td>0</td>\n",
       "      <td>0</td>\n",
       "      <td>4</td>\n",
       "      <td>0</td>\n",
       "      <td>1</td>\n",
       "      <td>21</td>\n",
       "      <td>0</td>\n",
       "      <td>English</td>\n",
       "    </tr>\n",
       "  </tbody>\n",
       "</table>\n",
       "</div>"
      ],
      "text/plain": [
       "   track id      genre   amazement   solemnity   tenderness   nostalgia  \\\n",
       "0         1  classical           0           1            0           0   \n",
       "1         1  classical           0           0            0           1   \n",
       "2         1  classical           0           0            0           1   \n",
       "3         1  classical           0           0            0           0   \n",
       "4         1  classical           0           0            0           1   \n",
       "\n",
       "    calmness   power   joyful_activation   tension   sadness   mood   liked  \\\n",
       "0          0       0                   1         1         0      3       1   \n",
       "1          0       0                   0         0         0      3       0   \n",
       "2          0       0                   0         0         1      3       0   \n",
       "3          1       0                   0         0         0      3       0   \n",
       "4          1       0                   0         0         0      4       0   \n",
       "\n",
       "    disliked   age   gender  mother tongue  \n",
       "0          0    21        1        English  \n",
       "1          1    41        1          Dutch  \n",
       "2          0    24        1        English  \n",
       "3          0    32        0        Spanish  \n",
       "4          1    21        0        English  "
      ]
     },
     "execution_count": 2,
     "metadata": {},
     "output_type": "execute_result"
    }
   ],
   "source": [
    "df = pd.read_csv(\"/Users/Rohit/Downloads/data.csv\")\n",
    "df.head()"
   ]
  },
  {
   "cell_type": "code",
   "execution_count": 11,
   "metadata": {
    "collapsed": false
   },
   "outputs": [
    {
     "data": {
      "text/plain": [
       "5"
      ]
     },
     "execution_count": 11,
     "metadata": {},
     "output_type": "execute_result"
    }
   ],
   "source": [
    "df[df.columns[14]].min()"
   ]
  },
  {
   "cell_type": "code",
   "execution_count": 3,
   "metadata": {
    "collapsed": false,
    "deletable": true,
    "editable": true
   },
   "outputs": [],
   "source": [
    "def ind(x):\n",
    "    if int(x) > 100 and int(x) <= 200:\n",
    "        return str(int(x)-100)\n",
    "    if int(x) >200 and int(x) <= 300:\n",
    "        return str(int(x)-200)\n",
    "    if int(x) >300 and int(x) <= 400:\n",
    "        return str(int(x)-300)\n",
    "    return str(x)"
   ]
  },
  {
   "cell_type": "code",
   "execution_count": 12,
   "metadata": {
    "collapsed": false,
    "deletable": true,
    "editable": true
   },
   "outputs": [],
   "source": [
    "def age(x):\n",
    "    if int(x) >= 0 and int(x) < 10:\n",
    "        return str('Kids')\n",
    "    if int(x) >= 10 and int(x) < 20:\n",
    "        return str('Teens')\n",
    "    if int(x) >= 20 and int(x) < 50:\n",
    "        return str('Adults')\n",
    "    if int(x) >= 50 and int(x) < 100:\n",
    "        return str('Seniors')"
   ]
  },
  {
   "cell_type": "code",
   "execution_count": 7,
   "metadata": {
    "collapsed": false
   },
   "outputs": [
    {
     "data": {
      "text/html": [
       "<div>\n",
       "<table border=\"1\" class=\"dataframe\">\n",
       "  <thead>\n",
       "    <tr style=\"text-align: right;\">\n",
       "      <th></th>\n",
       "      <th>0</th>\n",
       "      <th>1</th>\n",
       "      <th>2</th>\n",
       "      <th>3</th>\n",
       "      <th>4</th>\n",
       "      <th>5</th>\n",
       "      <th>6</th>\n",
       "      <th>7</th>\n",
       "      <th>8</th>\n",
       "      <th>9</th>\n",
       "      <th>10</th>\n",
       "      <th>11</th>\n",
       "      <th>12</th>\n",
       "      <th>13</th>\n",
       "      <th>14</th>\n",
       "      <th>15</th>\n",
       "      <th>16</th>\n",
       "    </tr>\n",
       "  </thead>\n",
       "  <tbody>\n",
       "    <tr>\n",
       "      <th>0</th>\n",
       "      <td>track id</td>\n",
       "      <td>genre</td>\n",
       "      <td>amazement</td>\n",
       "      <td>solemnity</td>\n",
       "      <td>tenderness</td>\n",
       "      <td>nostalgia</td>\n",
       "      <td>calmness</td>\n",
       "      <td>power</td>\n",
       "      <td>joyful_activation</td>\n",
       "      <td>tension</td>\n",
       "      <td>sadness</td>\n",
       "      <td>mood</td>\n",
       "      <td>liked</td>\n",
       "      <td>disliked</td>\n",
       "      <td>age</td>\n",
       "      <td>gender</td>\n",
       "      <td>mother tongue</td>\n",
       "    </tr>\n",
       "  </tbody>\n",
       "</table>\n",
       "</div>"
      ],
      "text/plain": [
       "         0       1           2           3            4           5   \\\n",
       "0  track id   genre   amazement   solemnity   tenderness   nostalgia   \n",
       "\n",
       "          6       7                   8         9         10     11      12  \\\n",
       "0   calmness   power   joyful_activation   tension   sadness   mood   liked   \n",
       "\n",
       "          13    14       15              16  \n",
       "0   disliked   age   gender   mother tongue  "
      ]
     },
     "execution_count": 7,
     "metadata": {},
     "output_type": "execute_result"
    }
   ],
   "source": [
    "pd.DataFrame(df.columns).T"
   ]
  },
  {
   "cell_type": "code",
   "execution_count": 23,
   "metadata": {
    "collapsed": false
   },
   "outputs": [],
   "source": [
    "df['AgeGroup'] = df[df.columns[14]].apply(lambda x: age(x))\n",
    "df['Classical'] = df[df.columns[1]].apply(lambda x: 1 if x == 'classical' else 0)\n",
    "df['Pop'] = df[df.columns[1]].apply(lambda x: 1 if x == 'pop' else 0)\n",
    "df['Electronic'] = df[df.columns[1]].apply(lambda x: 1 if x == 'electronic' else 0)\n",
    "df['Rock'] = df[df.columns[1]].apply(lambda x: 1 if x == 'rock' else 0)"
   ]
  },
  {
   "cell_type": "code",
   "execution_count": 41,
   "metadata": {
    "collapsed": false
   },
   "outputs": [],
   "source": [
    "df1 = df[df[df.columns[12]]==1]"
   ]
  },
  {
   "cell_type": "code",
   "execution_count": 44,
   "metadata": {
    "collapsed": false
   },
   "outputs": [],
   "source": [
    "agelike = df1.groupby(['AgeGroup',df.columns[12]\n",
    "                    ])['Rock','Electronic','Pop','Classical'].mean()"
   ]
  },
  {
   "cell_type": "code",
   "execution_count": 45,
   "metadata": {
    "collapsed": false
   },
   "outputs": [
    {
     "data": {
      "text/html": [
       "<div>\n",
       "<table border=\"1\" class=\"dataframe\">\n",
       "  <thead>\n",
       "    <tr style=\"text-align: right;\">\n",
       "      <th></th>\n",
       "      <th></th>\n",
       "      <th>Rock</th>\n",
       "      <th>Electronic</th>\n",
       "      <th>Pop</th>\n",
       "      <th>Classical</th>\n",
       "    </tr>\n",
       "    <tr>\n",
       "      <th>AgeGroup</th>\n",
       "      <th>liked</th>\n",
       "      <th></th>\n",
       "      <th></th>\n",
       "      <th></th>\n",
       "      <th></th>\n",
       "    </tr>\n",
       "  </thead>\n",
       "  <tbody>\n",
       "    <tr>\n",
       "      <th>Adults</th>\n",
       "      <th>1</th>\n",
       "      <td>0.228844</td>\n",
       "      <td>0.191101</td>\n",
       "      <td>0.204211</td>\n",
       "      <td>0.375844</td>\n",
       "    </tr>\n",
       "    <tr>\n",
       "      <th>Seniors</th>\n",
       "      <th>1</th>\n",
       "      <td>0.193154</td>\n",
       "      <td>0.129584</td>\n",
       "      <td>0.105134</td>\n",
       "      <td>0.572127</td>\n",
       "    </tr>\n",
       "    <tr>\n",
       "      <th>Teens</th>\n",
       "      <th>1</th>\n",
       "      <td>0.301370</td>\n",
       "      <td>0.197260</td>\n",
       "      <td>0.227397</td>\n",
       "      <td>0.273973</td>\n",
       "    </tr>\n",
       "  </tbody>\n",
       "</table>\n",
       "</div>"
      ],
      "text/plain": [
       "                     Rock  Electronic       Pop  Classical\n",
       "AgeGroup  liked                                           \n",
       "Adults   1       0.228844    0.191101  0.204211   0.375844\n",
       "Seniors  1       0.193154    0.129584  0.105134   0.572127\n",
       "Teens    1       0.301370    0.197260  0.227397   0.273973"
      ]
     },
     "execution_count": 45,
     "metadata": {},
     "output_type": "execute_result"
    }
   ],
   "source": [
    "agelike"
   ]
  },
  {
   "cell_type": "code",
   "execution_count": null,
   "metadata": {
    "collapsed": true
   },
   "outputs": [],
   "source": [
    "df.groupby(df.columns[15])[]"
   ]
  },
  {
   "cell_type": "code",
   "execution_count": 464,
   "metadata": {
    "collapsed": false,
    "deletable": true,
    "editable": true
   },
   "outputs": [],
   "source": [
    "songscores = df.groupby([df.columns[0], df.columns[1]])[df.columns[2],df.columns[3],df.columns[4],df.columns[5],df.columns[6],df.columns[7],df.columns[8],df.columns[9],df.columns[10]].mean() "
   ]
  },
  {
   "cell_type": "code",
   "execution_count": 465,
   "metadata": {
    "collapsed": false,
    "deletable": true,
    "editable": true
   },
   "outputs": [],
   "source": [
    "# songscores = songscores.round(0)\n",
    "songscores['emotion'] = np.array(songscores.idxmax(axis=1))"
   ]
  },
  {
   "cell_type": "code",
   "execution_count": 504,
   "metadata": {
    "collapsed": false,
    "deletable": true,
    "editable": true
   },
   "outputs": [],
   "source": [
    "songscores = pd.read_csv('/Users/Rohit/Desktop/emotifymusic/emotions.csv')\n",
    "songscores['song'] = songscores['track id'].astype(str)\n",
    "songscores['song'] = songscores['song'].apply(lambda x: ind(int(x)))\n",
    "songscores['song'] = songscores['song'].astype(str)\n",
    "del songscores['track id']\n",
    "songscores['genreactual'] = songscores[songscores.columns[0]]\n",
    "del songscores[songscores.columns[0]]\n",
    "#songscores['genre'] = songscores['genre'].apply(lambda x: ind(x))"
   ]
  },
  {
   "cell_type": "code",
   "execution_count": 505,
   "metadata": {
    "collapsed": false,
    "deletable": true,
    "editable": true
   },
   "outputs": [
    {
     "data": {
      "text/html": [
       "<div>\n",
       "<table border=\"1\" class=\"dataframe\">\n",
       "  <thead>\n",
       "    <tr style=\"text-align: right;\">\n",
       "      <th></th>\n",
       "      <th>amazement</th>\n",
       "      <th>solemnity</th>\n",
       "      <th>tenderness</th>\n",
       "      <th>nostalgia</th>\n",
       "      <th>calmness</th>\n",
       "      <th>power</th>\n",
       "      <th>joyful_activation</th>\n",
       "      <th>tension</th>\n",
       "      <th>sadness</th>\n",
       "      <th>emotion</th>\n",
       "      <th>song</th>\n",
       "      <th>genreactual</th>\n",
       "    </tr>\n",
       "  </thead>\n",
       "  <tbody>\n",
       "    <tr>\n",
       "      <th>395</th>\n",
       "      <td>0.250000</td>\n",
       "      <td>0.166667</td>\n",
       "      <td>0.250000</td>\n",
       "      <td>0.500000</td>\n",
       "      <td>0.333333</td>\n",
       "      <td>0.000000</td>\n",
       "      <td>0.166667</td>\n",
       "      <td>0.083333</td>\n",
       "      <td>0.166667</td>\n",
       "      <td>nostalgia</td>\n",
       "      <td>96</td>\n",
       "      <td>pop</td>\n",
       "    </tr>\n",
       "    <tr>\n",
       "      <th>396</th>\n",
       "      <td>0.090909</td>\n",
       "      <td>0.090909</td>\n",
       "      <td>0.090909</td>\n",
       "      <td>0.181818</td>\n",
       "      <td>0.181818</td>\n",
       "      <td>0.363636</td>\n",
       "      <td>0.000000</td>\n",
       "      <td>0.363636</td>\n",
       "      <td>0.545455</td>\n",
       "      <td>sadness</td>\n",
       "      <td>97</td>\n",
       "      <td>pop</td>\n",
       "    </tr>\n",
       "    <tr>\n",
       "      <th>397</th>\n",
       "      <td>0.272727</td>\n",
       "      <td>0.000000</td>\n",
       "      <td>0.000000</td>\n",
       "      <td>0.363636</td>\n",
       "      <td>0.272727</td>\n",
       "      <td>0.181818</td>\n",
       "      <td>0.636364</td>\n",
       "      <td>0.272727</td>\n",
       "      <td>0.181818</td>\n",
       "      <td>joyful_activation</td>\n",
       "      <td>98</td>\n",
       "      <td>pop</td>\n",
       "    </tr>\n",
       "    <tr>\n",
       "      <th>398</th>\n",
       "      <td>0.333333</td>\n",
       "      <td>0.083333</td>\n",
       "      <td>0.583333</td>\n",
       "      <td>0.583333</td>\n",
       "      <td>0.666667</td>\n",
       "      <td>0.083333</td>\n",
       "      <td>0.166667</td>\n",
       "      <td>0.000000</td>\n",
       "      <td>0.250000</td>\n",
       "      <td>calmness</td>\n",
       "      <td>99</td>\n",
       "      <td>pop</td>\n",
       "    </tr>\n",
       "    <tr>\n",
       "      <th>399</th>\n",
       "      <td>0.250000</td>\n",
       "      <td>0.166667</td>\n",
       "      <td>0.083333</td>\n",
       "      <td>0.333333</td>\n",
       "      <td>0.083333</td>\n",
       "      <td>0.000000</td>\n",
       "      <td>0.250000</td>\n",
       "      <td>0.500000</td>\n",
       "      <td>0.416667</td>\n",
       "      <td>tension</td>\n",
       "      <td>100</td>\n",
       "      <td>pop</td>\n",
       "    </tr>\n",
       "  </tbody>\n",
       "</table>\n",
       "</div>"
      ],
      "text/plain": [
       "      amazement   solemnity   tenderness   nostalgia   calmness     power  \\\n",
       "395    0.250000    0.166667     0.250000    0.500000   0.333333  0.000000   \n",
       "396    0.090909    0.090909     0.090909    0.181818   0.181818  0.363636   \n",
       "397    0.272727    0.000000     0.000000    0.363636   0.272727  0.181818   \n",
       "398    0.333333    0.083333     0.583333    0.583333   0.666667  0.083333   \n",
       "399    0.250000    0.166667     0.083333    0.333333   0.083333  0.000000   \n",
       "\n",
       "      joyful_activation   tension   sadness             emotion song  \\\n",
       "395            0.166667  0.083333  0.166667           nostalgia   96   \n",
       "396            0.000000  0.363636  0.545455             sadness   97   \n",
       "397            0.636364  0.272727  0.181818   joyful_activation   98   \n",
       "398            0.166667  0.000000  0.250000            calmness   99   \n",
       "399            0.250000  0.500000  0.416667             tension  100   \n",
       "\n",
       "    genreactual  \n",
       "395         pop  \n",
       "396         pop  \n",
       "397         pop  \n",
       "398         pop  \n",
       "399         pop  "
      ]
     },
     "execution_count": 505,
     "metadata": {},
     "output_type": "execute_result"
    }
   ],
   "source": [
    "songscores.tail()"
   ]
  },
  {
   "cell_type": "code",
   "execution_count": 506,
   "metadata": {
    "collapsed": false,
    "deletable": true,
    "editable": true
   },
   "outputs": [
    {
     "data": {
      "text/html": [
       "<div>\n",
       "<table border=\"1\" class=\"dataframe\">\n",
       "  <thead>\n",
       "    <tr style=\"text-align: right;\">\n",
       "      <th></th>\n",
       "      <th>song</th>\n",
       "      <th>genreactual</th>\n",
       "      <th>X1</th>\n",
       "      <th>X2</th>\n",
       "      <th>X3</th>\n",
       "      <th>X4</th>\n",
       "      <th>X5</th>\n",
       "      <th>X6</th>\n",
       "      <th>X7</th>\n",
       "      <th>X8</th>\n",
       "      <th>...</th>\n",
       "      <th>X135</th>\n",
       "      <th>X136</th>\n",
       "      <th>X137</th>\n",
       "      <th>X138</th>\n",
       "      <th>X139</th>\n",
       "      <th>X140</th>\n",
       "      <th>X141</th>\n",
       "      <th>X142</th>\n",
       "      <th>X143</th>\n",
       "      <th>X144</th>\n",
       "    </tr>\n",
       "  </thead>\n",
       "  <tbody>\n",
       "    <tr>\n",
       "      <th>395</th>\n",
       "      <td>95</td>\n",
       "      <td>rock</td>\n",
       "      <td>148.914557</td>\n",
       "      <td>11.385854</td>\n",
       "      <td>-14.419433</td>\n",
       "      <td>20.119700</td>\n",
       "      <td>-11.335805</td>\n",
       "      <td>20.681865</td>\n",
       "      <td>-9.681043</td>\n",
       "      <td>15.590925</td>\n",
       "      <td>...</td>\n",
       "      <td>-16.741580</td>\n",
       "      <td>15.646881</td>\n",
       "      <td>-21.010654</td>\n",
       "      <td>18.883060</td>\n",
       "      <td>-18.193482</td>\n",
       "      <td>16.559122</td>\n",
       "      <td>-14.417529</td>\n",
       "      <td>8.813310</td>\n",
       "      <td>-5.817961</td>\n",
       "      <td>7.792374</td>\n",
       "    </tr>\n",
       "    <tr>\n",
       "      <th>396</th>\n",
       "      <td>96</td>\n",
       "      <td>rock</td>\n",
       "      <td>164.837525</td>\n",
       "      <td>13.464742</td>\n",
       "      <td>-13.387728</td>\n",
       "      <td>16.935813</td>\n",
       "      <td>-16.079433</td>\n",
       "      <td>23.338415</td>\n",
       "      <td>-24.740612</td>\n",
       "      <td>13.696678</td>\n",
       "      <td>...</td>\n",
       "      <td>-12.917811</td>\n",
       "      <td>17.347306</td>\n",
       "      <td>-16.917913</td>\n",
       "      <td>23.092537</td>\n",
       "      <td>-20.606092</td>\n",
       "      <td>18.464235</td>\n",
       "      <td>-15.033952</td>\n",
       "      <td>13.713415</td>\n",
       "      <td>-10.666423</td>\n",
       "      <td>5.947689</td>\n",
       "    </tr>\n",
       "    <tr>\n",
       "      <th>397</th>\n",
       "      <td>97</td>\n",
       "      <td>rock</td>\n",
       "      <td>161.603349</td>\n",
       "      <td>10.029126</td>\n",
       "      <td>-14.185661</td>\n",
       "      <td>25.930415</td>\n",
       "      <td>-17.690684</td>\n",
       "      <td>24.532994</td>\n",
       "      <td>-14.376647</td>\n",
       "      <td>17.569615</td>\n",
       "      <td>...</td>\n",
       "      <td>-18.561821</td>\n",
       "      <td>18.031877</td>\n",
       "      <td>-19.157920</td>\n",
       "      <td>19.635476</td>\n",
       "      <td>-19.517100</td>\n",
       "      <td>18.857997</td>\n",
       "      <td>-14.936478</td>\n",
       "      <td>6.148520</td>\n",
       "      <td>-8.480199</td>\n",
       "      <td>3.578990</td>\n",
       "    </tr>\n",
       "    <tr>\n",
       "      <th>398</th>\n",
       "      <td>98</td>\n",
       "      <td>rock</td>\n",
       "      <td>162.320597</td>\n",
       "      <td>9.663049</td>\n",
       "      <td>-6.778317</td>\n",
       "      <td>1.384363</td>\n",
       "      <td>-10.194383</td>\n",
       "      <td>12.237091</td>\n",
       "      <td>-13.154905</td>\n",
       "      <td>13.337556</td>\n",
       "      <td>...</td>\n",
       "      <td>-5.184564</td>\n",
       "      <td>11.807511</td>\n",
       "      <td>-15.020020</td>\n",
       "      <td>15.067209</td>\n",
       "      <td>-14.640332</td>\n",
       "      <td>12.214318</td>\n",
       "      <td>-11.509531</td>\n",
       "      <td>11.146540</td>\n",
       "      <td>-12.819427</td>\n",
       "      <td>12.638585</td>\n",
       "    </tr>\n",
       "    <tr>\n",
       "      <th>399</th>\n",
       "      <td>99</td>\n",
       "      <td>rock</td>\n",
       "      <td>158.625270</td>\n",
       "      <td>12.527380</td>\n",
       "      <td>-22.181661</td>\n",
       "      <td>15.005977</td>\n",
       "      <td>-13.652752</td>\n",
       "      <td>23.930085</td>\n",
       "      <td>-10.665536</td>\n",
       "      <td>19.953743</td>\n",
       "      <td>...</td>\n",
       "      <td>-20.694452</td>\n",
       "      <td>14.079317</td>\n",
       "      <td>-24.546133</td>\n",
       "      <td>22.701594</td>\n",
       "      <td>-20.534941</td>\n",
       "      <td>21.344437</td>\n",
       "      <td>-14.731885</td>\n",
       "      <td>10.492144</td>\n",
       "      <td>-5.321130</td>\n",
       "      <td>9.749231</td>\n",
       "    </tr>\n",
       "  </tbody>\n",
       "</table>\n",
       "<p>5 rows × 146 columns</p>\n",
       "</div>"
      ],
      "text/plain": [
       "    song genreactual          X1         X2         X3         X4         X5  \\\n",
       "395   95        rock  148.914557  11.385854 -14.419433  20.119700 -11.335805   \n",
       "396   96        rock  164.837525  13.464742 -13.387728  16.935813 -16.079433   \n",
       "397   97        rock  161.603349  10.029126 -14.185661  25.930415 -17.690684   \n",
       "398   98        rock  162.320597   9.663049  -6.778317   1.384363 -10.194383   \n",
       "399   99        rock  158.625270  12.527380 -22.181661  15.005977 -13.652752   \n",
       "\n",
       "            X6         X7         X8    ...           X135       X136  \\\n",
       "395  20.681865  -9.681043  15.590925    ...     -16.741580  15.646881   \n",
       "396  23.338415 -24.740612  13.696678    ...     -12.917811  17.347306   \n",
       "397  24.532994 -14.376647  17.569615    ...     -18.561821  18.031877   \n",
       "398  12.237091 -13.154905  13.337556    ...      -5.184564  11.807511   \n",
       "399  23.930085 -10.665536  19.953743    ...     -20.694452  14.079317   \n",
       "\n",
       "          X137       X138       X139       X140       X141       X142  \\\n",
       "395 -21.010654  18.883060 -18.193482  16.559122 -14.417529   8.813310   \n",
       "396 -16.917913  23.092537 -20.606092  18.464235 -15.033952  13.713415   \n",
       "397 -19.157920  19.635476 -19.517100  18.857997 -14.936478   6.148520   \n",
       "398 -15.020020  15.067209 -14.640332  12.214318 -11.509531  11.146540   \n",
       "399 -24.546133  22.701594 -20.534941  21.344437 -14.731885  10.492144   \n",
       "\n",
       "          X143       X144  \n",
       "395  -5.817961   7.792374  \n",
       "396 -10.666423   5.947689  \n",
       "397  -8.480199   3.578990  \n",
       "398 -12.819427  12.638585  \n",
       "399  -5.321130   9.749231  \n",
       "\n",
       "[5 rows x 146 columns]"
      ]
     },
     "execution_count": 506,
     "metadata": {},
     "output_type": "execute_result"
    }
   ],
   "source": [
    "mfcc.tail()"
   ]
  },
  {
   "cell_type": "code",
   "execution_count": 498,
   "metadata": {
    "collapsed": false,
    "deletable": true,
    "editable": true
   },
   "outputs": [
    {
     "data": {
      "text/plain": [
       "(400, 146)"
      ]
     },
     "execution_count": 498,
     "metadata": {},
     "output_type": "execute_result"
    }
   ],
   "source": [
    "mfcc.shape"
   ]
  },
  {
   "cell_type": "code",
   "execution_count": 499,
   "metadata": {
    "collapsed": false,
    "deletable": true,
    "editable": true
   },
   "outputs": [
    {
     "data": {
      "text/plain": [
       "(400, 12)"
      ]
     },
     "execution_count": 499,
     "metadata": {},
     "output_type": "execute_result"
    }
   ],
   "source": [
    "songscores.shape"
   ]
  },
  {
   "cell_type": "code",
   "execution_count": 508,
   "metadata": {
    "collapsed": false,
    "deletable": true,
    "editable": true
   },
   "outputs": [
    {
     "data": {
      "text/plain": [
       "(400, 156)"
      ]
     },
     "execution_count": 508,
     "metadata": {},
     "output_type": "execute_result"
    }
   ],
   "source": [
    "overall = pd.merge(songscores, mfcc, how='inner', on=['song', 'genreactual'])\n",
    "overall.shape"
   ]
  },
  {
   "cell_type": "code",
   "execution_count": 509,
   "metadata": {
    "collapsed": false,
    "deletable": true,
    "editable": true
   },
   "outputs": [
    {
     "data": {
      "text/html": [
       "<div>\n",
       "<table border=\"1\" class=\"dataframe\">\n",
       "  <thead>\n",
       "    <tr style=\"text-align: right;\">\n",
       "      <th></th>\n",
       "      <th>amazement</th>\n",
       "      <th>solemnity</th>\n",
       "      <th>tenderness</th>\n",
       "      <th>nostalgia</th>\n",
       "      <th>calmness</th>\n",
       "      <th>power</th>\n",
       "      <th>joyful_activation</th>\n",
       "      <th>tension</th>\n",
       "      <th>sadness</th>\n",
       "      <th>emotion</th>\n",
       "      <th>...</th>\n",
       "      <th>X135</th>\n",
       "      <th>X136</th>\n",
       "      <th>X137</th>\n",
       "      <th>X138</th>\n",
       "      <th>X139</th>\n",
       "      <th>X140</th>\n",
       "      <th>X141</th>\n",
       "      <th>X142</th>\n",
       "      <th>X143</th>\n",
       "      <th>X144</th>\n",
       "    </tr>\n",
       "  </thead>\n",
       "  <tbody>\n",
       "    <tr>\n",
       "      <th>395</th>\n",
       "      <td>0.250000</td>\n",
       "      <td>0.166667</td>\n",
       "      <td>0.250000</td>\n",
       "      <td>0.500000</td>\n",
       "      <td>0.333333</td>\n",
       "      <td>0.000000</td>\n",
       "      <td>0.166667</td>\n",
       "      <td>0.083333</td>\n",
       "      <td>0.166667</td>\n",
       "      <td>nostalgia</td>\n",
       "      <td>...</td>\n",
       "      <td>-6.785479</td>\n",
       "      <td>9.640711</td>\n",
       "      <td>-9.505537</td>\n",
       "      <td>12.383130</td>\n",
       "      <td>-16.038063</td>\n",
       "      <td>13.444276</td>\n",
       "      <td>-11.158558</td>\n",
       "      <td>19.934064</td>\n",
       "      <td>-12.404997</td>\n",
       "      <td>12.403638</td>\n",
       "    </tr>\n",
       "    <tr>\n",
       "      <th>396</th>\n",
       "      <td>0.090909</td>\n",
       "      <td>0.090909</td>\n",
       "      <td>0.090909</td>\n",
       "      <td>0.181818</td>\n",
       "      <td>0.181818</td>\n",
       "      <td>0.363636</td>\n",
       "      <td>0.000000</td>\n",
       "      <td>0.363636</td>\n",
       "      <td>0.545455</td>\n",
       "      <td>sadness</td>\n",
       "      <td>...</td>\n",
       "      <td>-18.213162</td>\n",
       "      <td>22.228120</td>\n",
       "      <td>-21.945471</td>\n",
       "      <td>20.750610</td>\n",
       "      <td>-23.648825</td>\n",
       "      <td>18.919091</td>\n",
       "      <td>-19.336035</td>\n",
       "      <td>13.940405</td>\n",
       "      <td>-8.690585</td>\n",
       "      <td>4.940160</td>\n",
       "    </tr>\n",
       "    <tr>\n",
       "      <th>397</th>\n",
       "      <td>0.272727</td>\n",
       "      <td>0.000000</td>\n",
       "      <td>0.000000</td>\n",
       "      <td>0.363636</td>\n",
       "      <td>0.272727</td>\n",
       "      <td>0.181818</td>\n",
       "      <td>0.636364</td>\n",
       "      <td>0.272727</td>\n",
       "      <td>0.181818</td>\n",
       "      <td>joyful_activation</td>\n",
       "      <td>...</td>\n",
       "      <td>-13.913437</td>\n",
       "      <td>8.930980</td>\n",
       "      <td>-12.101745</td>\n",
       "      <td>14.952672</td>\n",
       "      <td>-11.194542</td>\n",
       "      <td>8.928040</td>\n",
       "      <td>-11.887989</td>\n",
       "      <td>9.291221</td>\n",
       "      <td>-9.298040</td>\n",
       "      <td>7.499900</td>\n",
       "    </tr>\n",
       "    <tr>\n",
       "      <th>398</th>\n",
       "      <td>0.333333</td>\n",
       "      <td>0.083333</td>\n",
       "      <td>0.583333</td>\n",
       "      <td>0.583333</td>\n",
       "      <td>0.666667</td>\n",
       "      <td>0.083333</td>\n",
       "      <td>0.166667</td>\n",
       "      <td>0.000000</td>\n",
       "      <td>0.250000</td>\n",
       "      <td>calmness</td>\n",
       "      <td>...</td>\n",
       "      <td>-13.784188</td>\n",
       "      <td>14.196366</td>\n",
       "      <td>-19.352939</td>\n",
       "      <td>11.352697</td>\n",
       "      <td>-13.030593</td>\n",
       "      <td>18.132375</td>\n",
       "      <td>-13.836141</td>\n",
       "      <td>15.423797</td>\n",
       "      <td>-11.339878</td>\n",
       "      <td>13.511324</td>\n",
       "    </tr>\n",
       "    <tr>\n",
       "      <th>399</th>\n",
       "      <td>0.250000</td>\n",
       "      <td>0.166667</td>\n",
       "      <td>0.083333</td>\n",
       "      <td>0.333333</td>\n",
       "      <td>0.083333</td>\n",
       "      <td>0.000000</td>\n",
       "      <td>0.250000</td>\n",
       "      <td>0.500000</td>\n",
       "      <td>0.416667</td>\n",
       "      <td>tension</td>\n",
       "      <td>...</td>\n",
       "      <td>-17.282034</td>\n",
       "      <td>22.154239</td>\n",
       "      <td>-20.753677</td>\n",
       "      <td>18.922600</td>\n",
       "      <td>-23.870830</td>\n",
       "      <td>15.145902</td>\n",
       "      <td>-15.592567</td>\n",
       "      <td>8.140494</td>\n",
       "      <td>-4.012176</td>\n",
       "      <td>4.936481</td>\n",
       "    </tr>\n",
       "  </tbody>\n",
       "</table>\n",
       "<p>5 rows × 156 columns</p>\n",
       "</div>"
      ],
      "text/plain": [
       "      amazement   solemnity   tenderness   nostalgia   calmness     power  \\\n",
       "395    0.250000    0.166667     0.250000    0.500000   0.333333  0.000000   \n",
       "396    0.090909    0.090909     0.090909    0.181818   0.181818  0.363636   \n",
       "397    0.272727    0.000000     0.000000    0.363636   0.272727  0.181818   \n",
       "398    0.333333    0.083333     0.583333    0.583333   0.666667  0.083333   \n",
       "399    0.250000    0.166667     0.083333    0.333333   0.083333  0.000000   \n",
       "\n",
       "      joyful_activation   tension   sadness             emotion    ...      \\\n",
       "395            0.166667  0.083333  0.166667           nostalgia    ...       \n",
       "396            0.000000  0.363636  0.545455             sadness    ...       \n",
       "397            0.636364  0.272727  0.181818   joyful_activation    ...       \n",
       "398            0.166667  0.000000  0.250000            calmness    ...       \n",
       "399            0.250000  0.500000  0.416667             tension    ...       \n",
       "\n",
       "          X135       X136       X137       X138       X139       X140  \\\n",
       "395  -6.785479   9.640711  -9.505537  12.383130 -16.038063  13.444276   \n",
       "396 -18.213162  22.228120 -21.945471  20.750610 -23.648825  18.919091   \n",
       "397 -13.913437   8.930980 -12.101745  14.952672 -11.194542   8.928040   \n",
       "398 -13.784188  14.196366 -19.352939  11.352697 -13.030593  18.132375   \n",
       "399 -17.282034  22.154239 -20.753677  18.922600 -23.870830  15.145902   \n",
       "\n",
       "          X141       X142       X143       X144  \n",
       "395 -11.158558  19.934064 -12.404997  12.403638  \n",
       "396 -19.336035  13.940405  -8.690585   4.940160  \n",
       "397 -11.887989   9.291221  -9.298040   7.499900  \n",
       "398 -13.836141  15.423797 -11.339878  13.511324  \n",
       "399 -15.592567   8.140494  -4.012176   4.936481  \n",
       "\n",
       "[5 rows x 156 columns]"
      ]
     },
     "execution_count": 509,
     "metadata": {},
     "output_type": "execute_result"
    }
   ],
   "source": [
    "overall.tail()"
   ]
  },
  {
   "cell_type": "code",
   "execution_count": 510,
   "metadata": {
    "collapsed": false,
    "deletable": true,
    "editable": true
   },
   "outputs": [],
   "source": [
    "overall.to_csv('/Users/Rohit/Desktop/overall.csv')"
   ]
  },
  {
   "cell_type": "code",
   "execution_count": 363,
   "metadata": {
    "collapsed": false,
    "deletable": true,
    "editable": true
   },
   "outputs": [],
   "source": []
  },
  {
   "cell_type": "code",
   "execution_count": null,
   "metadata": {
    "collapsed": false,
    "deletable": true,
    "editable": true
   },
   "outputs": [],
   "source": []
  },
  {
   "cell_type": "code",
   "execution_count": null,
   "metadata": {
    "collapsed": true,
    "deletable": true,
    "editable": true
   },
   "outputs": [],
   "source": []
  }
 ],
 "metadata": {
  "kernelspec": {
   "display_name": "Python 2",
   "language": "python",
   "name": "python2"
  },
  "language_info": {
   "codemirror_mode": {
    "name": "ipython",
    "version": 2
   },
   "file_extension": ".py",
   "mimetype": "text/x-python",
   "name": "python",
   "nbconvert_exporter": "python",
   "pygments_lexer": "ipython2",
   "version": "2.7.11"
  }
 },
 "nbformat": 4,
 "nbformat_minor": 2
}
